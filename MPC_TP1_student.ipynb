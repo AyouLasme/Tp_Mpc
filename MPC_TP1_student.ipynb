{
 "cells": [
  {
   "cell_type": "markdown",
   "metadata": {},
   "source": [
    "# TP 1 : Time series withoud trend nor seasonality"
   ]
  },
  {
   "cell_type": "code",
   "execution_count": 1,
   "metadata": {},
   "outputs": [
    {
     "name": "stderr",
     "output_type": "stream",
     "text": [
      "C:\\Users\\hp\\AppData\\Local\\Temp\\ipykernel_4816\\3610919214.py:1: DeprecationWarning: \n",
      "Pyarrow will become a required dependency of pandas in the next major release of pandas (pandas 3.0),\n",
      "(to allow more performant data types, such as the Arrow string type, and better interoperability with other libraries)\n",
      "but was not found to be installed on your system.\n",
      "If this would cause problems for you,\n",
      "please provide us feedback at https://github.com/pandas-dev/pandas/issues/54466\n",
      "        \n",
      "  import pandas as pd\n"
     ]
    }
   ],
   "source": [
    "import pandas as pd\n",
    "import numpy as np\n",
    "import matplotlib.pyplot as plt\n",
    "%matplotlib inline"
   ]
  },
  {
   "cell_type": "code",
   "execution_count": 2,
   "metadata": {},
   "outputs": [],
   "source": [
    "# Load the data:\n",
    "huron= pd.read_csv('Lakehuron.csv', index_col=0)\n",
    "huron.index = pd.to_datetime(huron.index)\n",
    "# the parameter index_col = 0 means that the first column of the datafile will be used to index the rows\n",
    "# the second line of command transforms the index column (with dates) into a DateTime format (format to manage dates in Python)"
   ]
  },
  {
   "cell_type": "code",
   "execution_count": 3,
   "metadata": {},
   "outputs": [
    {
     "data": {
      "text/html": [
       "<div>\n",
       "<style scoped>\n",
       "    .dataframe tbody tr th:only-of-type {\n",
       "        vertical-align: middle;\n",
       "    }\n",
       "\n",
       "    .dataframe tbody tr th {\n",
       "        vertical-align: top;\n",
       "    }\n",
       "\n",
       "    .dataframe thead th {\n",
       "        text-align: right;\n",
       "    }\n",
       "</style>\n",
       "<table border=\"1\" class=\"dataframe\">\n",
       "  <thead>\n",
       "    <tr style=\"text-align: right;\">\n",
       "      <th></th>\n",
       "      <th>Level</th>\n",
       "    </tr>\n",
       "  </thead>\n",
       "  <tbody>\n",
       "    <tr>\n",
       "      <th>1891-01-31</th>\n",
       "      <td>579.14</td>\n",
       "    </tr>\n",
       "    <tr>\n",
       "      <th>1892-01-31</th>\n",
       "      <td>579.16</td>\n",
       "    </tr>\n",
       "    <tr>\n",
       "      <th>1893-01-31</th>\n",
       "      <td>579.55</td>\n",
       "    </tr>\n",
       "    <tr>\n",
       "      <th>1894-01-31</th>\n",
       "      <td>579.67</td>\n",
       "    </tr>\n",
       "    <tr>\n",
       "      <th>1895-01-31</th>\n",
       "      <td>578.44</td>\n",
       "    </tr>\n",
       "    <tr>\n",
       "      <th>...</th>\n",
       "      <td>...</td>\n",
       "    </tr>\n",
       "    <tr>\n",
       "      <th>1968-01-31</th>\n",
       "      <td>578.52</td>\n",
       "    </tr>\n",
       "    <tr>\n",
       "      <th>1969-01-31</th>\n",
       "      <td>579.74</td>\n",
       "    </tr>\n",
       "    <tr>\n",
       "      <th>1970-01-31</th>\n",
       "      <td>579.31</td>\n",
       "    </tr>\n",
       "    <tr>\n",
       "      <th>1971-01-31</th>\n",
       "      <td>579.89</td>\n",
       "    </tr>\n",
       "    <tr>\n",
       "      <th>1972-01-31</th>\n",
       "      <td>579.96</td>\n",
       "    </tr>\n",
       "  </tbody>\n",
       "</table>\n",
       "<p>82 rows × 1 columns</p>\n",
       "</div>"
      ],
      "text/plain": [
       "             Level\n",
       "1891-01-31  579.14\n",
       "1892-01-31  579.16\n",
       "1893-01-31  579.55\n",
       "1894-01-31  579.67\n",
       "1895-01-31  578.44\n",
       "...            ...\n",
       "1968-01-31  578.52\n",
       "1969-01-31  579.74\n",
       "1970-01-31  579.31\n",
       "1971-01-31  579.89\n",
       "1972-01-31  579.96\n",
       "\n",
       "[82 rows x 1 columns]"
      ]
     },
     "execution_count": 3,
     "metadata": {},
     "output_type": "execute_result"
    }
   ],
   "source": [
    "# examine the loaded data: \n",
    "huron"
   ]
  },
  {
   "cell_type": "raw",
   "metadata": {},
   "source": [
    "Question : What is the frequency of acquisition of this time series?"
   ]
  },
  {
   "cell_type": "raw",
   "metadata": {},
   "source": [
    "C'est une serie à frequence annuelle"
   ]
  },
  {
   "cell_type": "raw",
   "metadata": {},
   "source": [
    "Question : Use the command huron.shape to get the number of rows and columns of this dataframe.\n",
    "How many points are there in the huron time series?"
   ]
  },
  {
   "cell_type": "code",
   "execution_count": 4,
   "metadata": {},
   "outputs": [
    {
     "data": {
      "text/plain": [
       "(82, 1)"
      ]
     },
     "execution_count": 4,
     "metadata": {},
     "output_type": "execute_result"
    }
   ],
   "source": [
    "huron.shape"
   ]
  },
  {
   "cell_type": "code",
   "execution_count": 5,
   "metadata": {},
   "outputs": [
    {
     "name": "stdout",
     "output_type": "stream",
     "text": [
      "Nombre de lignes : 82\n",
      "Nombre de colonnes : 1\n",
      "Nombre de points dans la série chronologique : 82\n"
     ]
    }
   ],
   "source": [
    "#Pour trouver le nombre de ligne, le nombre de colonne et le nombre de point d'une serie chronologique on utilise \"nameOfData.shape\"\n",
    "# Si c'est une trame de données :\n",
    "nombre_lignes, nombre_colonnes = huron.shape\n",
    "print(f\"Nombre de lignes : {nombre_lignes}\")\n",
    "print(f\"Nombre de colonnes : {nombre_colonnes}\")\n",
    "\n",
    "# Si huron est une serie chronologique :\n",
    "nombre_points = huron.shape[0]\n",
    "print(f\"Nombre de points dans la série chronologique : {nombre_points}\")\n",
    "\n",
    "# Afficher les premières lignes du DataFrame pour examiner la colonne \n",
    "#print(df.head())"
   ]
  },
  {
   "cell_type": "code",
   "execution_count": null,
   "metadata": {},
   "outputs": [],
   "source": []
  },
  {
   "cell_type": "code",
   "execution_count": 6,
   "metadata": {},
   "outputs": [
    {
     "data": {
      "text/plain": [
       "<matplotlib.legend.Legend at 0x2942bd727d0>"
      ]
     },
     "execution_count": 6,
     "metadata": {},
     "output_type": "execute_result"
    },
    {
     "data": {
      "image/png": "[encoded data removed]",
      "text/plain": [
       "<Figure size 1000x600 with 1 Axes>"
      ]
     },
     "metadata": {},
     "output_type": "display_data"
    }
   ],
   "source": [
    "# We will now plot this time series:\n",
    "plt.figure(figsize=(10, 6)) # creates a figure with the desired size\n",
    "plt.plot(huron, marker = 'o', color = 'skyblue', label = 'Huron data') # plots the data in the variable huron (by default, index is used for the x-axis and the values for the y-axis).\n",
    "# marker is used to define how the points will be depicted (you can try something else). You can also change\n",
    "# the color. The label is the name that you give to the curve (this name will be used in the legend)\n",
    "plt.title(\"Lake Huron level\") # gives a title to the figure\n",
    "plt.xlabel(\"Year\") # gives a label to the x-axis\n",
    "plt.ylabel(\"Level\")# gives a label to the y-axis\n",
    "plt.legend(loc = 'best') # inserts a legend at the best location"
   ]
  },
  {
   "cell_type": "raw",
   "metadata": {},
   "source": [
    "Question : Do you think (visually) that series has a trend and/or a seasonal component ?"
   ]
  },
  {
   "cell_type": "raw",
   "metadata": {},
   "source": [
    "on obsere que la serie a une tendance et est saisoniere"
   ]
  },
  {
   "cell_type": "raw",
   "metadata": {},
   "source": [
    "We will now use the autocorrelation function to check this:"
   ]
  },
  {
   "cell_type": "code",
   "execution_count": 7,
   "metadata": {},
   "outputs": [
    {
     "name": "stdout",
     "output_type": "stream",
     "text": [
      "Requirement already satisfied: statsmodels in c:\\users\\hp\\appdata\\local\\programs\\python\\python311\\lib\\site-packages (0.14.1)\n",
      "Requirement already satisfied: numpy<2,>=1.18 in c:\\users\\hp\\appdata\\local\\programs\\python\\python311\\lib\\site-packages (from statsmodels) (1.26.4)\n",
      "Requirement already satisfied: scipy!=1.9.2,>=1.4 in c:\\users\\hp\\appdata\\local\\programs\\python\\python311\\lib\\site-packages (from statsmodels) (1.12.0)\n",
      "Requirement already satisfied: pandas!=2.1.0,>=1.0 in c:\\users\\hp\\appdata\\local\\programs\\python\\python311\\lib\\site-packages (from statsmodels) (2.2.0)\n",
      "Requirement already satisfied: patsy>=0.5.4 in c:\\users\\hp\\appdata\\local\\programs\\python\\python311\\lib\\site-packages (from statsmodels) (0.5.6)\n",
      "Requirement already satisfied: packaging>=21.3 in c:\\users\\hp\\appdata\\roaming\\python\\python311\\site-packages (from statsmodels) (23.2)\n",
      "Requirement already satisfied: python-dateutil>=2.8.2 in c:\\users\\hp\\appdata\\roaming\\python\\python311\\site-packages (from pandas!=2.1.0,>=1.0->statsmodels) (2.8.2)\n",
      "Requirement already satisfied: pytz>=2020.1 in c:\\users\\hp\\appdata\\local\\programs\\python\\python311\\lib\\site-packages (from pandas!=2.1.0,>=1.0->statsmodels) (2024.1)\n",
      "Requirement already satisfied: tzdata>=2022.7 in c:\\users\\hp\\appdata\\local\\programs\\python\\python311\\lib\\site-packages (from pandas!=2.1.0,>=1.0->statsmodels) (2023.4)\n",
      "Requirement already satisfied: six in c:\\users\\hp\\appdata\\local\\programs\\python\\python311\\lib\\site-packages (from patsy>=0.5.4->statsmodels) (1.16.0)\n"
     ]
    }
   ],
   "source": [
    "!pip install statsmodels"
   ]
  },
  {
   "cell_type": "code",
   "execution_count": 8,
   "metadata": {},
   "outputs": [
    {
     "data": {
      "image/png": "[encoded data removed]",
      "text/plain": [
       "<Figure size 640x480 with 1 Axes>"
      ]
     },
     "execution_count": 8,
     "metadata": {},
     "output_type": "execute_result"
    },
    {
     "data": {
      "image/png": "[encoded data removed]",
      "text/plain": [
       "<Figure size 640x480 with 1 Axes>"
      ]
     },
     "metadata": {},
     "output_type": "display_data"
    }
   ],
   "source": [
    "from statsmodels.graphics.tsaplots import plot_acf\n",
    "plot_acf(huron)"
   ]
  },
  {
   "cell_type": "raw",
   "metadata": {},
   "source": [
    "Question : How can you interpret the results of the autocorrelation function for this time series ?"
   ]
  },
  {
   "cell_type": "raw",
   "metadata": {},
   "source": [
    "On remarque que dans cette serie temporelle pour le resultat de la fonction d'autocorrelation on n'a pas de tendance et de saisonnalité car le composant saisonnier est donné par la valeur de la tendance et donc vu qu'on n'a pas de tendance alors on a pas de saisonalité\n",
    " (mais on observe une saisonnalité vu la description de la courbe qui se comporte comme une suite polynomiale)"
   ]
  },
  {
   "cell_type": "raw",
   "metadata": {},
   "source": [
    "We will now split this time series into a training set (the 71 first points) and a validation set (the 11 last points)"
   ]
  },
  {
   "cell_type": "code",
   "execution_count": 9,
   "metadata": {},
   "outputs": [],
   "source": [
    "huron_train = huron.iloc[:71,:] # ':71' means rows from the first up to 71 excluded (so 0,1,2,3,...,70) and ':' after the coma means all columns of the dataframe (just one here)\n",
    "huron_valid = huron.iloc[71:,:] # '71:' means rows from 71 (included) up to the end\n",
    "\n",
    "# More generally, if df is a dataframe, \n",
    "# the command df.iloc[i,j] gets the value at the row number i (starting from 0) and column j (starting from 0)\n",
    "# the command df.loc[i,j]  gets the value at the row whose index is i and column whose index is j\n",
    "# with huron for instance, I can get the value at the year 1900 by\n",
    "# huron.loc['1900-01-31', 'Level']\n"
   ]
  },
  {
   "cell_type": "raw",
   "metadata": {},
   "source": [
    "Question : Check if the train and validation data has the desired shape"
   ]
  },
  {
   "cell_type": "code",
   "execution_count": 10,
   "metadata": {},
   "outputs": [
    {
     "data": {
      "text/plain": [
       "(71, 1)"
      ]
     },
     "execution_count": 10,
     "metadata": {},
     "output_type": "execute_result"
    }
   ],
   "source": [
    "huron_train.shape"
   ]
  },
  {
   "cell_type": "code",
   "execution_count": 11,
   "metadata": {},
   "outputs": [
    {
     "data": {
      "text/plain": [
       "(11, 1)"
      ]
     },
     "execution_count": 11,
     "metadata": {},
     "output_type": "execute_result"
    }
   ],
   "source": [
    "huron_valid.shape"
   ]
  },
  {
   "cell_type": "raw",
   "metadata": {},
   "source": [
    "Question : Plot the training time series and the validation time series on the same graph with different colors\n",
    "and markers and insert a legend"
   ]
  },
  {
   "cell_type": "code",
   "execution_count": 14,
   "metadata": {},
   "outputs": [
    {
     "data": {
      "text/plain": [
       "<matplotlib.legend.Legend at 0x2942bdec190>"
      ]
     },
     "execution_count": 14,
     "metadata": {},
     "output_type": "execute_result"
    },
    {
     "data": {
      "image/png": "[encoded data removed]",
      "text/plain": [
       "<Figure size 1000x600 with 1 Axes>"
      ]
     },
     "metadata": {},
     "output_type": "display_data"
    }
   ],
   "source": [
    "plt.figure(figsize=(10, 6))\n",
    "plt.plot(huron_train, marker='o', color = 'blue', label = 'Huron_train data')\n",
    "plt.plot(huron_valid, marker='+', color= 'orange', label= 'huron_valid data')\n",
    "\n",
    "plt.title(\"Serie temporel de validation et serie temporelle d'entrainement\") # gives a title to the figure\n",
    "plt.xlabel(\"Year\") # gives a label to the x-axis\n",
    "plt.ylabel(\"Level\")# gives a label to the y-axis\n",
    "plt.legend(loc = 'best') \n"
   ]
  },
  {
   "cell_type": "markdown",
   "metadata": {},
   "source": [
    "## First method : prediction is the last observed value"
   ]
  },
  {
   "cell_type": "raw",
   "metadata": {},
   "source": [
    "We will start with a naïve approach : the prediction at a given time stamp is equal to the last observed value.\n",
    "As explained in the CM, we will predict all the points of the validation data in order to evaluate this method"
   ]
  },
  {
   "cell_type": "raw",
   "metadata": {},
   "source": [
    "Question : Using this method, what should be the prediction for the first point of the validation data (i.e. for Year 1962) ?"
   ]
  },
  {
   "cell_type": "code",
   "execution_count": 15,
   "metadata": {},
   "outputs": [
    {
     "data": {
      "text/html": [
       "<div>\n",
       "<style scoped>\n",
       "    .dataframe tbody tr th:only-of-type {\n",
       "        vertical-align: middle;\n",
       "    }\n",
       "\n",
       "    .dataframe tbody tr th {\n",
       "        vertical-align: top;\n",
       "    }\n",
       "\n",
       "    .dataframe thead th {\n",
       "        text-align: right;\n",
       "    }\n",
       "</style>\n",
       "<table border=\"1\" class=\"dataframe\">\n",
       "  <thead>\n",
       "    <tr style=\"text-align: right;\">\n",
       "      <th></th>\n",
       "      <th>Level</th>\n",
       "    </tr>\n",
       "  </thead>\n",
       "  <tbody>\n",
       "    <tr>\n",
       "      <th>1891-01-31</th>\n",
       "      <td>579.14</td>\n",
       "    </tr>\n",
       "    <tr>\n",
       "      <th>1892-01-31</th>\n",
       "      <td>579.16</td>\n",
       "    </tr>\n",
       "    <tr>\n",
       "      <th>1893-01-31</th>\n",
       "      <td>579.55</td>\n",
       "    </tr>\n",
       "    <tr>\n",
       "      <th>1894-01-31</th>\n",
       "      <td>579.67</td>\n",
       "    </tr>\n",
       "    <tr>\n",
       "      <th>1895-01-31</th>\n",
       "      <td>578.44</td>\n",
       "    </tr>\n",
       "    <tr>\n",
       "      <th>...</th>\n",
       "      <td>...</td>\n",
       "    </tr>\n",
       "    <tr>\n",
       "      <th>1957-01-31</th>\n",
       "      <td>578.18</td>\n",
       "    </tr>\n",
       "    <tr>\n",
       "      <th>1958-01-31</th>\n",
       "      <td>577.21</td>\n",
       "    </tr>\n",
       "    <tr>\n",
       "      <th>1959-01-31</th>\n",
       "      <td>577.13</td>\n",
       "    </tr>\n",
       "    <tr>\n",
       "      <th>1960-01-31</th>\n",
       "      <td>579.10</td>\n",
       "    </tr>\n",
       "    <tr>\n",
       "      <th>1961-01-31</th>\n",
       "      <td>578.25</td>\n",
       "    </tr>\n",
       "  </tbody>\n",
       "</table>\n",
       "<p>71 rows × 1 columns</p>\n",
       "</div>"
      ],
      "text/plain": [
       "             Level\n",
       "1891-01-31  579.14\n",
       "1892-01-31  579.16\n",
       "1893-01-31  579.55\n",
       "1894-01-31  579.67\n",
       "1895-01-31  578.44\n",
       "...            ...\n",
       "1957-01-31  578.18\n",
       "1958-01-31  577.21\n",
       "1959-01-31  577.13\n",
       "1960-01-31  579.10\n",
       "1961-01-31  578.25\n",
       "\n",
       "[71 rows x 1 columns]"
      ]
     },
     "execution_count": 15,
     "metadata": {},
     "output_type": "execute_result"
    }
   ],
   "source": [
    "huron_train"
   ]
  },
  {
   "cell_type": "code",
   "execution_count": 16,
   "metadata": {},
   "outputs": [
    {
     "data": {
      "text/html": [
       "<div>\n",
       "<style scoped>\n",
       "    .dataframe tbody tr th:only-of-type {\n",
       "        vertical-align: middle;\n",
       "    }\n",
       "\n",
       "    .dataframe tbody tr th {\n",
       "        vertical-align: top;\n",
       "    }\n",
       "\n",
       "    .dataframe thead th {\n",
       "        text-align: right;\n",
       "    }\n",
       "</style>\n",
       "<table border=\"1\" class=\"dataframe\">\n",
       "  <thead>\n",
       "    <tr style=\"text-align: right;\">\n",
       "      <th></th>\n",
       "      <th>Level</th>\n",
       "    </tr>\n",
       "  </thead>\n",
       "  <tbody>\n",
       "    <tr>\n",
       "      <th>1962-01-31</th>\n",
       "      <td>577.91</td>\n",
       "    </tr>\n",
       "    <tr>\n",
       "      <th>1963-01-31</th>\n",
       "      <td>576.89</td>\n",
       "    </tr>\n",
       "    <tr>\n",
       "      <th>1964-01-31</th>\n",
       "      <td>575.96</td>\n",
       "    </tr>\n",
       "    <tr>\n",
       "      <th>1965-01-31</th>\n",
       "      <td>576.80</td>\n",
       "    </tr>\n",
       "    <tr>\n",
       "      <th>1966-01-31</th>\n",
       "      <td>577.68</td>\n",
       "    </tr>\n",
       "    <tr>\n",
       "      <th>1967-01-31</th>\n",
       "      <td>578.38</td>\n",
       "    </tr>\n",
       "    <tr>\n",
       "      <th>1968-01-31</th>\n",
       "      <td>578.52</td>\n",
       "    </tr>\n",
       "    <tr>\n",
       "      <th>1969-01-31</th>\n",
       "      <td>579.74</td>\n",
       "    </tr>\n",
       "    <tr>\n",
       "      <th>1970-01-31</th>\n",
       "      <td>579.31</td>\n",
       "    </tr>\n",
       "    <tr>\n",
       "      <th>1971-01-31</th>\n",
       "      <td>579.89</td>\n",
       "    </tr>\n",
       "    <tr>\n",
       "      <th>1972-01-31</th>\n",
       "      <td>579.96</td>\n",
       "    </tr>\n",
       "  </tbody>\n",
       "</table>\n",
       "</div>"
      ],
      "text/plain": [
       "             Level\n",
       "1962-01-31  577.91\n",
       "1963-01-31  576.89\n",
       "1964-01-31  575.96\n",
       "1965-01-31  576.80\n",
       "1966-01-31  577.68\n",
       "1967-01-31  578.38\n",
       "1968-01-31  578.52\n",
       "1969-01-31  579.74\n",
       "1970-01-31  579.31\n",
       "1971-01-31  579.89\n",
       "1972-01-31  579.96"
      ]
     },
     "execution_count": 16,
     "metadata": {},
     "output_type": "execute_result"
    }
   ],
   "source": [
    "huron_valid"
   ]
  },
  {
   "cell_type": "raw",
   "metadata": {},
   "source": [
    "la valeur de la prediction de l'année 1962 en suivant la methode naive donne 578,25 qui est la valeur de l'année 1961"
   ]
  },
  {
   "cell_type": "raw",
   "metadata": {},
   "source": [
    "Question : Using this method, what should be the predictions for the other points of the validation data (from Year 1963 to 1972) ?"
   ]
  },
  {
   "cell_type": "raw",
   "metadata": {},
   "source": [
    "En utilisant la methode naive la valeur des années 1963 à 1972 prennent la valeur de l'année 1961 et restent constant"
   ]
  },
  {
   "cell_type": "raw",
   "metadata": {},
   "source": [
    "Question : Using the function np.repeat, create an array containing all the predictions of the validation data\n",
    "This array should contain as many elements as there is in the validation data\n",
    "Store this array into a variable named pred_lp (lp stands for last point)"
   ]
  },
  {
   "cell_type": "code",
   "execution_count": 45,
   "metadata": {},
   "outputs": [],
   "source": [
    "pred_lp = np.repeat(huron_train.iloc[70,0], 11, axis=0)"
   ]
  },
  {
   "cell_type": "raw",
   "metadata": {},
   "source": [
    "We will now create a dataframe to store the predictions you obtained above. This dataframe should have the same index as the validation data and one column named 'Level' containing the predicted values at these indexes."
   ]
  },
  {
   "cell_type": "code",
   "execution_count": 49,
   "metadata": {},
   "outputs": [
    {
     "data": {
      "text/html": [
       "<div>\n",
       "<style scoped>\n",
       "    .dataframe tbody tr th:only-of-type {\n",
       "        vertical-align: middle;\n",
       "    }\n",
       "\n",
       "    .dataframe tbody tr th {\n",
       "        vertical-align: top;\n",
       "    }\n",
       "\n",
       "    .dataframe thead th {\n",
       "        text-align: right;\n",
       "    }\n",
       "</style>\n",
       "<table border=\"1\" class=\"dataframe\">\n",
       "  <thead>\n",
       "    <tr style=\"text-align: right;\">\n",
       "      <th></th>\n",
       "      <th>Level</th>\n",
       "    </tr>\n",
       "  </thead>\n",
       "  <tbody>\n",
       "    <tr>\n",
       "      <th>1962-01-31</th>\n",
       "      <td>578.25</td>\n",
       "    </tr>\n",
       "    <tr>\n",
       "      <th>1963-01-31</th>\n",
       "      <td>578.25</td>\n",
       "    </tr>\n",
       "    <tr>\n",
       "      <th>1964-01-31</th>\n",
       "      <td>578.25</td>\n",
       "    </tr>\n",
       "    <tr>\n",
       "      <th>1965-01-31</th>\n",
       "      <td>578.25</td>\n",
       "    </tr>\n",
       "    <tr>\n",
       "      <th>1966-01-31</th>\n",
       "      <td>578.25</td>\n",
       "    </tr>\n",
       "    <tr>\n",
       "      <th>1967-01-31</th>\n",
       "      <td>578.25</td>\n",
       "    </tr>\n",
       "    <tr>\n",
       "      <th>1968-01-31</th>\n",
       "      <td>578.25</td>\n",
       "    </tr>\n",
       "    <tr>\n",
       "      <th>1969-01-31</th>\n",
       "      <td>578.25</td>\n",
       "    </tr>\n",
       "    <tr>\n",
       "      <th>1970-01-31</th>\n",
       "      <td>578.25</td>\n",
       "    </tr>\n",
       "    <tr>\n",
       "      <th>1971-01-31</th>\n",
       "      <td>578.25</td>\n",
       "    </tr>\n",
       "    <tr>\n",
       "      <th>1972-01-31</th>\n",
       "      <td>578.25</td>\n",
       "    </tr>\n",
       "  </tbody>\n",
       "</table>\n",
       "</div>"
      ],
      "text/plain": [
       "             Level\n",
       "1962-01-31  578.25\n",
       "1963-01-31  578.25\n",
       "1964-01-31  578.25\n",
       "1965-01-31  578.25\n",
       "1966-01-31  578.25\n",
       "1967-01-31  578.25\n",
       "1968-01-31  578.25\n",
       "1969-01-31  578.25\n",
       "1970-01-31  578.25\n",
       "1971-01-31  578.25\n",
       "1972-01-31  578.25"
      ]
     },
     "execution_count": 49,
     "metadata": {},
     "output_type": "execute_result"
    }
   ],
   "source": [
    "pd.DataFrame(pred_lp, index=huron_valid.index, columns=['Level'])\n"
   ]
  },
  {
   "cell_type": "raw",
   "metadata": {},
   "source": [
    "Question : store the above dataframe into the variable pred_lp"
   ]
  },
  {
   "cell_type": "code",
   "execution_count": 50,
   "metadata": {},
   "outputs": [],
   "source": [
    "pred_lp = pd.DataFrame(pred_lp, index=huron_valid.index, columns=['Level'])"
   ]
  },
  {
   "cell_type": "raw",
   "metadata": {},
   "source": [
    "Question : Plot on the same graph, the training data, the validation data and the predictions that you have just obtained (use different colors, markers if you want to have a nice visual plot and insert a legend)"
   ]
  },
  {
   "cell_type": "code",
   "execution_count": 52,
   "metadata": {},
   "outputs": [
    {
     "data": {
      "text/plain": [
       "<matplotlib.legend.Legend at 0x29441a9ba10>"
      ]
     },
     "execution_count": 52,
     "metadata": {},
     "output_type": "execute_result"
    },
    {
     "data": {
      "image/png": "[encoded data removed]",
      "text/plain": [
       "<Figure size 1000x600 with 1 Axes>"
      ]
     },
     "metadata": {},
     "output_type": "display_data"
    }
   ],
   "source": [
    "plt.figure(figsize=(10, 6))\n",
    "plt.plot(huron_train, marker='o', color = 'green', label = 'Huron_train data')\n",
    "plt.plot(huron_valid, marker='+', color= 'yellow', label= 'huron_valid data')\n",
    "plt.plot(pred_lp, marker ='x', color = 'red', label = 'pred_lp data')\n",
    "\n",
    "plt.title(\"Serie temporel de validation et serie temporelle d'entrainement\") # gives a title to the figure\n",
    "plt.xlabel(\"Year\") # gives a label to the x-axis\n",
    "plt.ylabel(\"Level\")# gives a label to the y-axis\n",
    "plt.legend(loc = 'best') \n"
   ]
  },
  {
   "cell_type": "raw",
   "metadata": {},
   "source": [
    "Question : What is the squared prediction error for the Year 1962 ?"
   ]
  },
  {
   "cell_type": "raw",
   "metadata": {},
   "source": []
  },
  {
   "cell_type": "code",
   "execution_count": 54,
   "metadata": {},
   "outputs": [
    {
     "data": {
      "text/plain": [
       "0.11560000000002164"
      ]
     },
     "execution_count": 54,
     "metadata": {},
     "output_type": "execute_result"
    }
   ],
   "source": [
    "R_squared = (huron_valid.iloc[0,0] - pred_lp.iloc[0,0])**2"
   ]
  },
  {
   "cell_type": "raw",
   "metadata": {},
   "source": [
    "To evaluate this prediction method, we will now compute the mean squared error (MSE) of the predictions of the whole validation set.\n",
    "This MSE can be obtained by the following command:"
   ]
  },
  {
   "cell_type": "code",
   "execution_count": 59,
   "metadata": {},
   "outputs": [
    {
     "data": {
      "text/plain": [
       "1.6985363636363688"
      ]
     },
     "execution_count": 59,
     "metadata": {},
     "output_type": "execute_result"
    }
   ],
   "source": [
    "np.mean((pred_lp - huron_valid)**2)\n",
    "# here we compare the predictions in pred_lp with the true values (in huron_valid) with a substraction, square the errors\n",
    "# and get the mean (with np.mean)"
   ]
  },
  {
   "cell_type": "raw",
   "metadata": {},
   "source": [
    "This value quantifies the performance of this prediction method on our time series. We will\n",
    "compare this value with the performance of other methods that we are going to apply right after"
   ]
  },
  {
   "cell_type": "markdown",
   "metadata": {},
   "source": [
    "## Second method : prediction is the mean of all past observed values"
   ]
  },
  {
   "cell_type": "raw",
   "metadata": {},
   "source": [
    "Question : Using this method, what should be the prediction for the first point of the validation data ?\n",
    "Note : you can use np.mean on a dataframe to compute the mean value in this dataframe"
   ]
  },
  {
   "cell_type": "code",
   "execution_count": 66,
   "metadata": {},
   "outputs": [
    {
     "data": {
      "text/plain": [
       "578.7108450704226"
      ]
     },
     "execution_count": 66,
     "metadata": {},
     "output_type": "execute_result"
    }
   ],
   "source": [
    "pred_l = np.mean(huron_train.iloc[:,0])\n",
    "pred_l"
   ]
  },
  {
   "cell_type": "raw",
   "metadata": {},
   "source": [
    "Question : Using this method, what should be the predictions for all the other points of the validation data ?"
   ]
  },
  {
   "cell_type": "code",
   "execution_count": 88,
   "metadata": {},
   "outputs": [
    {
     "ename": "AttributeError",
     "evalue": "'numpy.ndarray' object has no attribute 'iloc'",
     "output_type": "error",
     "traceback": [
      "\u001b[1;31m---------------------------------------------------------------------------\u001b[0m",
      "\u001b[1;31mAttributeError\u001b[0m                            Traceback (most recent call last)",
      "Cell \u001b[1;32mIn[88], line 3\u001b[0m\n\u001b[0;32m      1\u001b[0m huron_all \u001b[38;5;241m=\u001b[39m np\u001b[38;5;241m.\u001b[39mconcatenate((huron_train, huron_valid))\n\u001b[0;32m      2\u001b[0m \u001b[38;5;28;01mfor\u001b[39;00m i \u001b[38;5;129;01min\u001b[39;00m \u001b[38;5;28mrange\u001b[39m(\u001b[38;5;241m71\u001b[39m,\u001b[38;5;241m82\u001b[39m):\n\u001b[1;32m----> 3\u001b[0m     moyenne \u001b[38;5;241m=\u001b[39m np\u001b[38;5;241m.\u001b[39mmean(\u001b[43mhuron_all\u001b[49m\u001b[38;5;241;43m.\u001b[39;49m\u001b[43miloc\u001b[49m[:i,\u001b[38;5;241m0\u001b[39m])\n\u001b[0;32m      4\u001b[0m     huron_all[i\u001b[38;5;241m+\u001b[39m\u001b[38;5;241m1\u001b[39m, \u001b[38;5;241m0\u001b[39m] \u001b[38;5;241m=\u001b[39m moyenne \n\u001b[0;32m      5\u001b[0m huron_all\n",
      "\u001b[1;31mAttributeError\u001b[0m: 'numpy.ndarray' object has no attribute 'iloc'"
     ]
    }
   ],
   "source": [
    "huron_all = np.concatenate((huron_train, huron_valid))\n",
    "for i in range(71,82):\n",
    "    moyenne = np.mean(huron_all.iloc[:i,0])\n",
    "    huron_all[i+1, 0] = moyenne \n",
    "huron_all\n"
   ]
  },
  {
   "cell_type": "code",
   "execution_count": 69,
   "metadata": {},
   "outputs": [
    {
     "ename": "AttributeError",
     "evalue": "'DataFrame' object has no attribute 'append'",
     "output_type": "error",
     "traceback": [
      "\u001b[1;31m---------------------------------------------------------------------------\u001b[0m",
      "\u001b[1;31mAttributeError\u001b[0m                            Traceback (most recent call last)",
      "\u001b[1;32m~\\AppData\\Local\\Temp\\ipykernel_4816\\4092574800.py\u001b[0m in \u001b[0;36m?\u001b[1;34m()\u001b[0m\n\u001b[1;32m----> 1\u001b[1;33m \u001b[0mhuron_train\u001b[0m\u001b[1;33m.\u001b[0m\u001b[0mappend\u001b[0m\u001b[1;33m(\u001b[0m\u001b[1;34m'pred_l'\u001b[0m\u001b[1;33m)\u001b[0m\u001b[1;33m\u001b[0m\u001b[1;33m\u001b[0m\u001b[0m\n\u001b[0m\u001b[0;32m      2\u001b[0m \u001b[0mnp\u001b[0m\u001b[1;33m.\u001b[0m\u001b[0mmean\u001b[0m\u001b[1;33m(\u001b[0m\u001b[0mhuron_train\u001b[0m\u001b[1;33m.\u001b[0m\u001b[0miloc\u001b[0m\u001b[1;33m[\u001b[0m\u001b[1;33m:\u001b[0m\u001b[1;33m,\u001b[0m\u001b[1;36m0\u001b[0m\u001b[1;33m]\u001b[0m\u001b[1;33m)\u001b[0m\u001b[1;33m\u001b[0m\u001b[1;33m\u001b[0m\u001b[0m\n",
      "\u001b[1;32mc:\\Users\\hp\\AppData\\Local\\Programs\\Python\\Python311\\Lib\\site-packages\\pandas\\core\\generic.py\u001b[0m in \u001b[0;36m?\u001b[1;34m(self, name)\u001b[0m\n\u001b[0;32m   6289\u001b[0m             \u001b[1;32mand\u001b[0m \u001b[0mname\u001b[0m \u001b[1;32mnot\u001b[0m \u001b[1;32min\u001b[0m \u001b[0mself\u001b[0m\u001b[1;33m.\u001b[0m\u001b[0m_accessors\u001b[0m\u001b[1;33m\u001b[0m\u001b[1;33m\u001b[0m\u001b[0m\n\u001b[0;32m   6290\u001b[0m             \u001b[1;32mand\u001b[0m \u001b[0mself\u001b[0m\u001b[1;33m.\u001b[0m\u001b[0m_info_axis\u001b[0m\u001b[1;33m.\u001b[0m\u001b[0m_can_hold_identifiers_and_holds_name\u001b[0m\u001b[1;33m(\u001b[0m\u001b[0mname\u001b[0m\u001b[1;33m)\u001b[0m\u001b[1;33m\u001b[0m\u001b[1;33m\u001b[0m\u001b[0m\n\u001b[0;32m   6291\u001b[0m         ):\n\u001b[0;32m   6292\u001b[0m             \u001b[1;32mreturn\u001b[0m \u001b[0mself\u001b[0m\u001b[1;33m[\u001b[0m\u001b[0mname\u001b[0m\u001b[1;33m]\u001b[0m\u001b[1;33m\u001b[0m\u001b[1;33m\u001b[0m\u001b[0m\n\u001b[1;32m-> 6293\u001b[1;33m         \u001b[1;32mreturn\u001b[0m \u001b[0mobject\u001b[0m\u001b[1;33m.\u001b[0m\u001b[0m__getattribute__\u001b[0m\u001b[1;33m(\u001b[0m\u001b[0mself\u001b[0m\u001b[1;33m,\u001b[0m \u001b[0mname\u001b[0m\u001b[1;33m)\u001b[0m\u001b[1;33m\u001b[0m\u001b[1;33m\u001b[0m\u001b[0m\n\u001b[0m",
      "\u001b[1;31mAttributeError\u001b[0m: 'DataFrame' object has no attribute 'append'"
     ]
    }
   ],
   "source": [
    "huron_train.append('pred_l')\n",
    "np.mean(huron_train.iloc[:,0])"
   ]
  },
  {
   "cell_type": "raw",
   "metadata": {},
   "source": [
    "Question : \n",
    "    - create a dataframe containing the predictions of the validation set (with their right indexes)\n",
    "    - add these predictions to the plot obtained above\n",
    "    - compute the performance of this method and compare it to the first method"
   ]
  },
  {
   "cell_type": "code",
   "execution_count": null,
   "metadata": {},
   "outputs": [],
   "source": []
  },
  {
   "cell_type": "markdown",
   "metadata": {},
   "source": [
    "## Simple exponential smoothing"
   ]
  },
  {
   "cell_type": "raw",
   "metadata": {},
   "source": [
    "We will now apply the simple exponential smoothing method to the huron time series.\n",
    "A simple exponential smoothing model can be obtained by the following command:"
   ]
  },
  {
   "cell_type": "code",
   "execution_count": null,
   "metadata": {},
   "outputs": [
    {
     "name": "stderr",
     "output_type": "stream",
     "text": [
      "/Users/smalinow/opt/anaconda3/lib/python3.7/site-packages/statsmodels/tsa/base/tsa_model.py:527: ValueWarning: No frequency information was provided, so inferred frequency A-JAN will be used.\n",
      "  % freq, ValueWarning)\n",
      "/Users/smalinow/opt/anaconda3/lib/python3.7/site-packages/statsmodels/tsa/holtwinters/model.py:429: FutureWarning: After 0.13 initialization must be handled at model creation\n",
      "  FutureWarning,\n",
      "/Users/smalinow/opt/anaconda3/lib/python3.7/site-packages/statsmodels/tsa/holtwinters/model.py:1103: FutureWarning: Setting initial values during fit is deprecated and will be removed after 0.13. These should be set during model initialization.\n",
      "  FutureWarning,\n",
      "/Users/smalinow/opt/anaconda3/lib/python3.7/site-packages/statsmodels/tsa/holtwinters/model.py:830: EstimationWarning: Model has no free parameters to estimate. Set optimized=False to suppress this warning\n",
      "  warnings.warn(message, EstimationWarning)\n"
     ]
    },
    {
     "data": {
      "text/html": [
       "<table class=\"simpletable\">\n",
       "<caption>SimpleExpSmoothing Model Results</caption>\n",
       "<tr>\n",
       "  <th>Dep. Variable:</th>           <td>Level</td>       <th>  No. Observations:  </th>        <td>71</td>       \n",
       "</tr>\n",
       "<tr>\n",
       "  <th>Model:</th>            <td>SimpleExpSmoothing</td> <th>  SSE                </th>      <td>51.923</td>     \n",
       "</tr>\n",
       "<tr>\n",
       "  <th>Optimized:</th>               <td>False</td>       <th>  AIC                </th>      <td>-18.217</td>    \n",
       "</tr>\n",
       "<tr>\n",
       "  <th>Trend:</th>                   <td>None</td>        <th>  BIC                </th>      <td>-13.692</td>    \n",
       "</tr>\n",
       "<tr>\n",
       "  <th>Seasonal:</th>                <td>None</td>        <th>  AICC               </th>      <td>-17.611</td>    \n",
       "</tr>\n",
       "<tr>\n",
       "  <th>Seasonal Periods:</th>        <td>None</td>        <th>  Date:              </th> <td>Sat, 23 Jan 2021</td>\n",
       "</tr>\n",
       "<tr>\n",
       "  <th>Box-Cox:</th>                 <td>False</td>       <th>  Time:              </th>     <td>16:15:15</td>    \n",
       "</tr>\n",
       "<tr>\n",
       "  <th>Box-Cox Coeff.:</th>          <td>None</td>        <th>                     </th>         <td> </td>       \n",
       "</tr>\n",
       "</table>\n",
       "<table class=\"simpletable\">\n",
       "<tr>\n",
       "         <td></td>                 <th>coeff</th>                <th>code</th>               <th>optimized</th>     \n",
       "</tr>\n",
       "<tr>\n",
       "  <th>smoothing_level</th> <td>           0.5000000</td> <td>               alpha</td> <td>               False</td>\n",
       "</tr>\n",
       "<tr>\n",
       "  <th>initial_level</th>   <td>           579.00000</td> <td>                 l.0</td> <td>               False</td>\n",
       "</tr>\n",
       "</table>"
      ],
      "text/plain": [
       "<class 'statsmodels.iolib.summary.Summary'>\n",
       "\"\"\"\n",
       "                       SimpleExpSmoothing Model Results                       \n",
       "==============================================================================\n",
       "Dep. Variable:                  Level   No. Observations:                   71\n",
       "Model:             SimpleExpSmoothing   SSE                             51.923\n",
       "Optimized:                      False   AIC                            -18.217\n",
       "Trend:                           None   BIC                            -13.692\n",
       "Seasonal:                        None   AICC                           -17.611\n",
       "Seasonal Periods:                None   Date:                 Sat, 23 Jan 2021\n",
       "Box-Cox:                        False   Time:                         16:15:15\n",
       "Box-Cox Coeff.:                  None                                         \n",
       "==============================================================================\n",
       "                       coeff                 code              optimized      \n",
       "------------------------------------------------------------------------------\n",
       "smoothing_level            0.5000000                alpha                False\n",
       "initial_level              579.00000                  l.0                False\n",
       "------------------------------------------------------------------------------\n",
       "\"\"\""
      ]
     },
     "execution_count": 66,
     "metadata": {},
     "output_type": "execute_result"
    }
   ],
   "source": [
    "from statsmodels.tsa.api import ExponentialSmoothing, SimpleExpSmoothing, Holt\n",
    "\n",
    "\n",
    "ses_model = SimpleExpSmoothing(huron_train,initialization_method='known', initial_level=579)\n",
    "ses_model = ses_model.fit(smoothing_level=0.5)\n",
    "\n",
    "\n",
    "# Here I ask to use alpha = 0.5 (smoothing level) and xhat_0 = 579 (prediction of the value x_0, initial level)\n",
    "# We will see a bit later how to ask the algorithm to search for the best values of these parameters\n",
    "ses_model.summary()"
   ]
  },
  {
   "cell_type": "raw",
   "metadata": {},
   "source": [
    "You should see at the bottom of these results that the values of alpha and xhat_0 are the ones we asked.\n",
    "We can obtain the xhat values ( predictions of x_0, x_1, ..., x_70 ) by the command:"
   ]
  },
  {
   "cell_type": "code",
   "execution_count": null,
   "metadata": {},
   "outputs": [
    {
     "data": {
      "text/plain": [
       "1891-01-31    579.000000\n",
       "1892-01-31    579.070000\n",
       "1893-01-31    579.115000\n",
       "1894-01-31    579.332500\n",
       "1895-01-31    579.501250\n",
       "                 ...    \n",
       "1957-01-31    579.299895\n",
       "1958-01-31    578.739947\n",
       "1959-01-31    577.974974\n",
       "1960-01-31    577.552487\n",
       "1961-01-31    578.326243\n",
       "Length: 71, dtype: float64"
      ]
     },
     "execution_count": 67,
     "metadata": {},
     "output_type": "execute_result"
    }
   ],
   "source": [
    "ses_model.fittedvalues"
   ]
  },
  {
   "cell_type": "raw",
   "metadata": {},
   "source": [
    "Question : Have a look at the predicted value for year 1892, and try to understand how this value is obtained"
   ]
  },
  {
   "cell_type": "code",
   "execution_count": null,
   "metadata": {},
   "outputs": [],
   "source": []
  },
  {
   "cell_type": "raw",
   "metadata": {},
   "source": [
    "Question : Same question for 1893"
   ]
  },
  {
   "cell_type": "code",
   "execution_count": null,
   "metadata": {},
   "outputs": [],
   "source": []
  },
  {
   "cell_type": "raw",
   "metadata": {},
   "source": [
    "Question : plot on the same graph the training data and the fitted values of the SES model"
   ]
  },
  {
   "cell_type": "code",
   "execution_count": null,
   "metadata": {},
   "outputs": [],
   "source": []
  },
  {
   "cell_type": "raw",
   "metadata": {},
   "source": [
    "The initial parameters that we have chosen might not be the best ones. We are now going to ask the SES algorithm\n",
    "to choose the best ones (the ones that produces fitted values the closer to the train data):"
   ]
  },
  {
   "cell_type": "code",
   "execution_count": null,
   "metadata": {},
   "outputs": [
    {
     "name": "stderr",
     "output_type": "stream",
     "text": [
      "/Users/smalinow/opt/anaconda3/lib/python3.7/site-packages/statsmodels/tsa/base/tsa_model.py:527: ValueWarning: No frequency information was provided, so inferred frequency A-JAN will be used.\n",
      "  % freq, ValueWarning)\n",
      "/Users/smalinow/opt/anaconda3/lib/python3.7/site-packages/statsmodels/tsa/holtwinters/model.py:429: FutureWarning: After 0.13 initialization must be handled at model creation\n",
      "  FutureWarning,\n"
     ]
    },
    {
     "data": {
      "text/html": [
       "<table class=\"simpletable\">\n",
       "<caption>SimpleExpSmoothing Model Results</caption>\n",
       "<tr>\n",
       "  <th>Dep. Variable:</th>           <td>Level</td>       <th>  No. Observations:  </th>        <td>71</td>       \n",
       "</tr>\n",
       "<tr>\n",
       "  <th>Model:</th>            <td>SimpleExpSmoothing</td> <th>  SSE                </th>      <td>41.330</td>     \n",
       "</tr>\n",
       "<tr>\n",
       "  <th>Optimized:</th>               <td>True</td>        <th>  AIC                </th>      <td>-34.418</td>    \n",
       "</tr>\n",
       "<tr>\n",
       "  <th>Trend:</th>                   <td>None</td>        <th>  BIC                </th>      <td>-29.893</td>    \n",
       "</tr>\n",
       "<tr>\n",
       "  <th>Seasonal:</th>                <td>None</td>        <th>  AICC               </th>      <td>-33.812</td>    \n",
       "</tr>\n",
       "<tr>\n",
       "  <th>Seasonal Periods:</th>        <td>None</td>        <th>  Date:              </th> <td>Sat, 23 Jan 2021</td>\n",
       "</tr>\n",
       "<tr>\n",
       "  <th>Box-Cox:</th>                 <td>False</td>       <th>  Time:              </th>     <td>16:18:54</td>    \n",
       "</tr>\n",
       "<tr>\n",
       "  <th>Box-Cox Coeff.:</th>          <td>None</td>        <th>                     </th>         <td> </td>       \n",
       "</tr>\n",
       "</table>\n",
       "<table class=\"simpletable\">\n",
       "<tr>\n",
       "         <td></td>                 <th>coeff</th>                <th>code</th>               <th>optimized</th>     \n",
       "</tr>\n",
       "<tr>\n",
       "  <th>smoothing_level</th> <td>           1.0000000</td> <td>               alpha</td> <td>                True</td>\n",
       "</tr>\n",
       "<tr>\n",
       "  <th>initial_level</th>   <td>           579.14022</td> <td>                 l.0</td> <td>                True</td>\n",
       "</tr>\n",
       "</table>"
      ],
      "text/plain": [
       "<class 'statsmodels.iolib.summary.Summary'>\n",
       "\"\"\"\n",
       "                       SimpleExpSmoothing Model Results                       \n",
       "==============================================================================\n",
       "Dep. Variable:                  Level   No. Observations:                   71\n",
       "Model:             SimpleExpSmoothing   SSE                             41.330\n",
       "Optimized:                       True   AIC                            -34.418\n",
       "Trend:                           None   BIC                            -29.893\n",
       "Seasonal:                        None   AICC                           -33.812\n",
       "Seasonal Periods:                None   Date:                 Sat, 23 Jan 2021\n",
       "Box-Cox:                        False   Time:                         16:18:54\n",
       "Box-Cox Coeff.:                  None                                         \n",
       "==============================================================================\n",
       "                       coeff                 code              optimized      \n",
       "------------------------------------------------------------------------------\n",
       "smoothing_level            1.0000000                alpha                 True\n",
       "initial_level              579.14022                  l.0                 True\n",
       "------------------------------------------------------------------------------\n",
       "\"\"\""
      ]
     },
     "execution_count": 73,
     "metadata": {},
     "output_type": "execute_result"
    }
   ],
   "source": [
    "ses_model_2 = SimpleExpSmoothing(huron_train).fit()\n",
    "# here we do not put any desired values for alpha and the initial level which means that the algorithm will search for the best ones\n",
    "ses_model_2.summary()"
   ]
  },
  {
   "cell_type": "raw",
   "metadata": {},
   "source": [
    "You should see which values were chosen at the bottom of the previous result.\n",
    "To get these values you can write : "
   ]
  },
  {
   "cell_type": "code",
   "execution_count": null,
   "metadata": {},
   "outputs": [
    {
     "name": "stdout",
     "output_type": "stream",
     "text": [
      "Alpha : 0.9999999850983017\n",
      "xhat_0 : 579.1402183914184\n"
     ]
    }
   ],
   "source": [
    "print('Alpha :',ses_model_2.params['smoothing_level'])\n",
    "print('xhat_0 :', ses_model_2.params['initial_level'])"
   ]
  },
  {
   "cell_type": "raw",
   "metadata": {},
   "source": [
    "Question : what can you conclude from the value of alpha that was chosen?  "
   ]
  },
  {
   "cell_type": "raw",
   "metadata": {},
   "source": []
  },
  {
   "cell_type": "raw",
   "metadata": {},
   "source": [
    "Question : plot on the same graph the training data and the fitted values of this new model.\n",
    "You should observe what you supposed in the previous answer"
   ]
  },
  {
   "cell_type": "code",
   "execution_count": null,
   "metadata": {},
   "outputs": [],
   "source": []
  },
  {
   "cell_type": "raw",
   "metadata": {},
   "source": [
    "The predictions made by this model for the 10 future values can be obtained by the command:"
   ]
  },
  {
   "cell_type": "code",
   "execution_count": null,
   "metadata": {},
   "outputs": [
    {
     "data": {
      "text/plain": [
       "1962-01-31    578.25\n",
       "1963-01-31    578.25\n",
       "1964-01-31    578.25\n",
       "1965-01-31    578.25\n",
       "1966-01-31    578.25\n",
       "1967-01-31    578.25\n",
       "1968-01-31    578.25\n",
       "1969-01-31    578.25\n",
       "1970-01-31    578.25\n",
       "1971-01-31    578.25\n",
       "Freq: A-JAN, dtype: float64"
      ]
     },
     "execution_count": 79,
     "metadata": {},
     "output_type": "execute_result"
    }
   ],
   "source": [
    "ses_model_2.forecast(10)"
   ]
  },
  {
   "cell_type": "raw",
   "metadata": {},
   "source": [
    "You should observe that these predictions are all the same. Is it normal ?"
   ]
  },
  {
   "cell_type": "raw",
   "metadata": {},
   "source": []
  },
  {
   "cell_type": "raw",
   "metadata": {},
   "source": [
    "Question : \n",
    "    - Compute the predictions for the validation data\n",
    "    - Plot these predictions on a graph showing also the training data and the validation data\n",
    "    - compute the performance of this method and compare it to previous methods"
   ]
  },
  {
   "cell_type": "code",
   "execution_count": null,
   "metadata": {},
   "outputs": [],
   "source": []
  },
  {
   "cell_type": "raw",
   "metadata": {},
   "source": [
    "You should see that the predicitions are very close to the one obtained by the 'last point' method. Can you explain why ?"
   ]
  },
  {
   "cell_type": "raw",
   "metadata": {},
   "source": []
  },
  {
   "cell_type": "markdown",
   "metadata": {},
   "source": [
    "## Auto-regressive models"
   ]
  },
  {
   "cell_type": "raw",
   "metadata": {},
   "source": [
    "We will start by using an AR(1) model : x_t = beta_0 + beta_1 x_(t-1)\n",
    "This kind of model is obtained by the following command:"
   ]
  },
  {
   "cell_type": "code",
   "execution_count": null,
   "metadata": {},
   "outputs": [
    {
     "name": "stderr",
     "output_type": "stream",
     "text": [
      "/Users/smalinow/opt/anaconda3/lib/python3.7/site-packages/statsmodels/tsa/base/tsa_model.py:527: ValueWarning: No frequency information was provided, so inferred frequency A-JAN will be used.\n",
      "  % freq, ValueWarning)\n",
      "/Users/smalinow/opt/anaconda3/lib/python3.7/site-packages/statsmodels/tsa/ar_model.py:252: FutureWarning: The parameter names will change after 0.12 is released. Set old_names to False to use the new names now. Set old_names to True to use the old names. \n",
      "  FutureWarning,\n"
     ]
    },
    {
     "data": {
      "text/html": [
       "<table class=\"simpletable\">\n",
       "<caption>AutoReg Model Results</caption>\n",
       "<tr>\n",
       "  <th>Dep. Variable:</th>       <td>Level</td>      <th>  No. Observations:  </th>   <td>71</td>   \n",
       "</tr>\n",
       "<tr>\n",
       "  <th>Model:</th>            <td>AutoReg(1)</td>    <th>  Log Likelihood     </th> <td>-76.025</td>\n",
       "</tr>\n",
       "<tr>\n",
       "  <th>Method:</th>         <td>Conditional MLE</td> <th>  S.D. of innovations</th>  <td>0.717</td> \n",
       "</tr>\n",
       "<tr>\n",
       "  <th>Date:</th>          <td>Sun, 24 Jan 2021</td> <th>  AIC                </th> <td>-0.580</td> \n",
       "</tr>\n",
       "<tr>\n",
       "  <th>Time:</th>              <td>10:04:25</td>     <th>  BIC                </th> <td>-0.484</td> \n",
       "</tr>\n",
       "<tr>\n",
       "  <th>Sample:</th>           <td>01-31-1892</td>    <th>  HQIC               </th> <td>-0.542</td> \n",
       "</tr>\n",
       "<tr>\n",
       "  <th></th>                 <td>- 01-31-1961</td>   <th>                     </th>    <td> </td>   \n",
       "</tr>\n",
       "</table>\n",
       "<table class=\"simpletable\">\n",
       "<tr>\n",
       "      <td></td>         <th>coef</th>     <th>std err</th>      <th>z</th>      <th>P>|z|</th>  <th>[0.025</th>    <th>0.975]</th>  \n",
       "</tr>\n",
       "<tr>\n",
       "  <th>intercept</th> <td>  149.8478</td> <td>   46.463</td> <td>    3.225</td> <td> 0.001</td> <td>   58.782</td> <td>  240.913</td>\n",
       "</tr>\n",
       "<tr>\n",
       "  <th>Level.L1</th>  <td>    0.7410</td> <td>    0.080</td> <td>    9.230</td> <td> 0.000</td> <td>    0.584</td> <td>    0.898</td>\n",
       "</tr>\n",
       "</table>\n",
       "<table class=\"simpletable\">\n",
       "<caption>Roots</caption>\n",
       "<tr>\n",
       "    <td></td>   <th>            Real</th>  <th>         Imaginary</th> <th>         Modulus</th>  <th>        Frequency</th>\n",
       "</tr>\n",
       "<tr>\n",
       "  <th>AR.1</th> <td>           1.3494</td> <td>          +0.0000j</td> <td>           1.3494</td> <td>           0.0000</td>\n",
       "</tr>\n",
       "</table>"
      ],
      "text/plain": [
       "<class 'statsmodels.iolib.summary.Summary'>\n",
       "\"\"\"\n",
       "                            AutoReg Model Results                             \n",
       "==============================================================================\n",
       "Dep. Variable:                  Level   No. Observations:                   71\n",
       "Model:                     AutoReg(1)   Log Likelihood                 -76.025\n",
       "Method:               Conditional MLE   S.D. of innovations              0.717\n",
       "Date:                Sun, 24 Jan 2021   AIC                             -0.580\n",
       "Time:                        10:04:25   BIC                             -0.484\n",
       "Sample:                    01-31-1892   HQIC                            -0.542\n",
       "                         - 01-31-1961                                         \n",
       "==============================================================================\n",
       "                 coef    std err          z      P>|z|      [0.025      0.975]\n",
       "------------------------------------------------------------------------------\n",
       "intercept    149.8478     46.463      3.225      0.001      58.782     240.913\n",
       "Level.L1       0.7410      0.080      9.230      0.000       0.584       0.898\n",
       "                                    Roots                                    \n",
       "=============================================================================\n",
       "                  Real          Imaginary           Modulus         Frequency\n",
       "-----------------------------------------------------------------------------\n",
       "AR.1            1.3494           +0.0000j            1.3494            0.0000\n",
       "-----------------------------------------------------------------------------\n",
       "\"\"\""
      ]
     },
     "execution_count": 83,
     "metadata": {},
     "output_type": "execute_result"
    }
   ],
   "source": [
    "from statsmodels.tsa.ar_model import AutoReg\n",
    "ar_model = AutoReg(huron_train, lags = 1, trend = 'c').fit()\n",
    "ar_model.summary()\n",
    "# the parameter lags is used to define the order of the AR model you want\n",
    "# trend = 'c' means that we want a constant (beta_0) in the model"
   ]
  },
  {
   "cell_type": "raw",
   "metadata": {},
   "source": [
    "The estimated coefficients (beta_0 and beta_1) are given in the column 'coef' at the bottom of the above results.\n",
    "Here, the model is x_t = 149.8478 + 0.741 x_(t-1)\n",
    "These parameters can be obtained by:"
   ]
  },
  {
   "cell_type": "code",
   "execution_count": null,
   "metadata": {},
   "outputs": [
    {
     "data": {
      "text/plain": [
       "intercept    149.847758\n",
       "Level.L1       0.741047\n",
       "dtype: float64"
      ]
     },
     "execution_count": 87,
     "metadata": {},
     "output_type": "execute_result"
    }
   ],
   "source": [
    "ar_model.params"
   ]
  },
  {
   "cell_type": "raw",
   "metadata": {},
   "source": [
    "Question : According to this model, what should be the prediction of the first point of the validation data ?"
   ]
  },
  {
   "cell_type": "code",
   "execution_count": null,
   "metadata": {},
   "outputs": [],
   "source": []
  },
  {
   "cell_type": "raw",
   "metadata": {},
   "source": [
    "This prediction can be obtained by the command:"
   ]
  },
  {
   "cell_type": "code",
   "execution_count": null,
   "metadata": {},
   "outputs": [
    {
     "data": {
      "text/plain": [
       "1962-01-31    578.358328\n",
       "Freq: A-JAN, dtype: float64"
      ]
     },
     "execution_count": 91,
     "metadata": {},
     "output_type": "execute_result"
    }
   ],
   "source": [
    "ar_model.forecast(1) # 1 here means 1 time instant after the last value of the training data"
   ]
  },
  {
   "cell_type": "raw",
   "metadata": {},
   "source": [
    "The goodness-of-fit of this model can be obtained by the Bayesian Information Criterion (BIC)\n",
    "This value is shown on the summmary results above, and can also be obtained by:"
   ]
  },
  {
   "cell_type": "code",
   "execution_count": null,
   "metadata": {},
   "outputs": [
    {
     "data": {
      "text/plain": [
       "-0.48366674531703335"
      ]
     },
     "execution_count": 92,
     "metadata": {},
     "output_type": "execute_result"
    }
   ],
   "source": [
    "ar_model.bic\n",
    "# The lower is this value, the better is the fit of the model to the training data"
   ]
  },
  {
   "cell_type": "raw",
   "metadata": {},
   "source": [
    "This BIC value is used to select the most appropriate order of an AR model to the training data. The idea is\n",
    "to try different orders starting from 1 and then choose the one that leads to the lowest BIC.\n",
    "\n",
    "Question : Using a for loop, try different orders of AR models to apply to our training data and select the most appropriate one"
   ]
  },
  {
   "cell_type": "code",
   "execution_count": null,
   "metadata": {},
   "outputs": [],
   "source": []
  },
  {
   "cell_type": "raw",
   "metadata": {},
   "source": [
    "Now you will use the best order selected above.\n",
    "Question : \n",
    "    - create and fit a model with this order\n",
    "    - compute the predictions made by this model on the validation data\n",
    "    - insert these predictions on a plot as before\n",
    "    - compute the performance of this model and compare it to the other methods"
   ]
  },
  {
   "cell_type": "code",
   "execution_count": null,
   "metadata": {},
   "outputs": [],
   "source": []
  },
  {
   "cell_type": "raw",
   "metadata": {},
   "source": [
    "Conclusion ?"
   ]
  },
  {
   "cell_type": "code",
   "execution_count": null,
   "metadata": {},
   "outputs": [],
   "source": []
  }
 ],
 "metadata": {
  "kernelspec": {
   "display_name": "Python 3 (ipykernel)",
   "language": "python",
   "name": "python3"
  },
  "language_info": {
   "codemirror_mode": {
    "name": "ipython",
    "version": 3
   },
   "file_extension": ".py",
   "mimetype": "text/x-python",
   "name": "python",
   "nbconvert_exporter": "python",
   "pygments_lexer": "ipython3",
   "version": "3.11.5"
  }
 },
 "nbformat": 4,
 "nbformat_minor": 4
}
